{
  "nbformat": 4,
  "nbformat_minor": 0,
  "metadata": {
    "colab": {
      "name": "Hackathon.ipynb",
      "provenance": []
    },
    "kernelspec": {
      "name": "python3",
      "display_name": "Python 3"
    }
  },
  "cells": [
    {
      "cell_type": "code",
      "metadata": {
        "colab": {
          "base_uri": "https://localhost:8080/"
        },
        "id": "hzzHbZnbHEQ_",
        "outputId": "ea977a37-4697-42e8-84a7-62d0603ca529"
      },
      "source": [
        "pip install pyqrcode"
      ],
      "execution_count": 25,
      "outputs": [
        {
          "output_type": "stream",
          "text": [
            "Requirement already satisfied: pyqrcode in /usr/local/lib/python3.6/dist-packages (1.2.1)\n"
          ],
          "name": "stdout"
        }
      ]
    },
    {
      "cell_type": "code",
      "metadata": {
        "colab": {
          "base_uri": "https://localhost:8080/"
        },
        "id": "i86KxYNeJBwN",
        "outputId": "679f3c84-ac10-4ffe-cd93-7e140e007f66"
      },
      "source": [
        "pip install pypng"
      ],
      "execution_count": 26,
      "outputs": [
        {
          "output_type": "stream",
          "text": [
            "Requirement already satisfied: pypng in /usr/local/lib/python3.6/dist-packages (0.0.20)\n"
          ],
          "name": "stdout"
        }
      ]
    },
    {
      "cell_type": "code",
      "metadata": {
        "id": "4pgo44WJHKFS"
      },
      "source": [
        "import pyqrcode"
      ],
      "execution_count": 27,
      "outputs": []
    },
    {
      "cell_type": "code",
      "metadata": {
        "id": "PEIv3W0RKKZo"
      },
      "source": [
        "from IPython.display import Image"
      ],
      "execution_count": 28,
      "outputs": []
    },
    {
      "cell_type": "code",
      "metadata": {
        "id": "rZjIf5EIqvOV"
      },
      "source": [
        "import pandas as pd"
      ],
      "execution_count": 39,
      "outputs": []
    },
    {
      "cell_type": "code",
      "metadata": {
        "colab": {
          "base_uri": "https://localhost:8080/"
        },
        "id": "Ns2MMM1ZpPYM",
        "outputId": "16a693f1-d35b-4b19-e97c-0f4c483c6ccc"
      },
      "source": [
        "from google.colab import drive\n",
        "drive.mount('/content/drive')"
      ],
      "execution_count": 35,
      "outputs": [
        {
          "output_type": "stream",
          "text": [
            "Mounted at /content/drive\n"
          ],
          "name": "stdout"
        }
      ]
    },
    {
      "cell_type": "code",
      "metadata": {
        "id": "ZeGFM-nqplAd"
      },
      "source": [
        "file=\"/content/drive/Shared drives/BMI 598 - Project/Data/data.csv\""
      ],
      "execution_count": 47,
      "outputs": []
    },
    {
      "cell_type": "code",
      "metadata": {
        "id": "9B7ne0Xtp2GE"
      },
      "source": [
        "df = pd.read_csv (file)"
      ],
      "execution_count": 48,
      "outputs": []
    },
    {
      "cell_type": "code",
      "metadata": {
        "colab": {
          "base_uri": "https://localhost:8080/",
          "height": 1000
        },
        "id": "gxL3sLCNr2OB",
        "outputId": "9a66566a-17c3-4d71-c467-78ea34497512"
      },
      "source": [
        "df"
      ],
      "execution_count": 51,
      "outputs": [
        {
          "output_type": "execute_result",
          "data": {
            "text/html": [
              "<div>\n",
              "<style scoped>\n",
              "    .dataframe tbody tr th:only-of-type {\n",
              "        vertical-align: middle;\n",
              "    }\n",
              "\n",
              "    .dataframe tbody tr th {\n",
              "        vertical-align: top;\n",
              "    }\n",
              "\n",
              "    .dataframe thead th {\n",
              "        text-align: right;\n",
              "    }\n",
              "</style>\n",
              "<table border=\"1\" class=\"dataframe\">\n",
              "  <thead>\n",
              "    <tr style=\"text-align: right;\">\n",
              "      <th></th>\n",
              "      <th>Name</th>\n",
              "      <th>Manufacturing Date</th>\n",
              "      <th>Expiry Date</th>\n",
              "    </tr>\n",
              "  </thead>\n",
              "  <tbody>\n",
              "    <tr>\n",
              "      <th>0</th>\n",
              "      <td>Apple</td>\n",
              "      <td>2/5/21</td>\n",
              "      <td>2/15/21</td>\n",
              "    </tr>\n",
              "    <tr>\n",
              "      <th>1</th>\n",
              "      <td>Banana</td>\n",
              "      <td>2/5/21</td>\n",
              "      <td>2/10/21</td>\n",
              "    </tr>\n",
              "    <tr>\n",
              "      <th>2</th>\n",
              "      <td>Orange</td>\n",
              "      <td>2/5/21</td>\n",
              "      <td>2/10/21</td>\n",
              "    </tr>\n",
              "    <tr>\n",
              "      <th>3</th>\n",
              "      <td>Berries</td>\n",
              "      <td>2/5/21</td>\n",
              "      <td>2/10/21</td>\n",
              "    </tr>\n",
              "    <tr>\n",
              "      <th>4</th>\n",
              "      <td>Lays</td>\n",
              "      <td>2/5/21</td>\n",
              "      <td>11/2/21</td>\n",
              "    </tr>\n",
              "    <tr>\n",
              "      <th>5</th>\n",
              "      <td>Chocolate</td>\n",
              "      <td>2/2/21</td>\n",
              "      <td>2/2/22</td>\n",
              "    </tr>\n",
              "    <tr>\n",
              "      <th>6</th>\n",
              "      <td>Butter</td>\n",
              "      <td>7/2/20</td>\n",
              "      <td>6/2/21</td>\n",
              "    </tr>\n",
              "    <tr>\n",
              "      <th>7</th>\n",
              "      <td>Milk</td>\n",
              "      <td>2/5/21</td>\n",
              "      <td>2/12/21</td>\n",
              "    </tr>\n",
              "    <tr>\n",
              "      <th>8</th>\n",
              "      <td>Cornflakes</td>\n",
              "      <td>1/30/21</td>\n",
              "      <td>1/30/22</td>\n",
              "    </tr>\n",
              "    <tr>\n",
              "      <th>9</th>\n",
              "      <td>Granola</td>\n",
              "      <td>1/1/21</td>\n",
              "      <td>1/2/22</td>\n",
              "    </tr>\n",
              "    <tr>\n",
              "      <th>10</th>\n",
              "      <td>Pancake</td>\n",
              "      <td>1/12/21</td>\n",
              "      <td>2/22/21</td>\n",
              "    </tr>\n",
              "    <tr>\n",
              "      <th>11</th>\n",
              "      <td>Rice</td>\n",
              "      <td>11/10/20</td>\n",
              "      <td>11/11/21</td>\n",
              "    </tr>\n",
              "    <tr>\n",
              "      <th>12</th>\n",
              "      <td>Flour</td>\n",
              "      <td>12/12/20</td>\n",
              "      <td>12/12/22</td>\n",
              "    </tr>\n",
              "    <tr>\n",
              "      <th>13</th>\n",
              "      <td>Oats</td>\n",
              "      <td>25/12/20</td>\n",
              "      <td>19/9/21</td>\n",
              "    </tr>\n",
              "    <tr>\n",
              "      <th>14</th>\n",
              "      <td>Cream</td>\n",
              "      <td>2/5/21</td>\n",
              "      <td>2/25/21</td>\n",
              "    </tr>\n",
              "    <tr>\n",
              "      <th>15</th>\n",
              "      <td>Eggs</td>\n",
              "      <td>1/31/21</td>\n",
              "      <td>2/15/21</td>\n",
              "    </tr>\n",
              "    <tr>\n",
              "      <th>16</th>\n",
              "      <td>Chicken</td>\n",
              "      <td>2/1/21</td>\n",
              "      <td>2/12/21</td>\n",
              "    </tr>\n",
              "    <tr>\n",
              "      <th>17</th>\n",
              "      <td>Waffles</td>\n",
              "      <td>2/2/21</td>\n",
              "      <td>3/2/21</td>\n",
              "    </tr>\n",
              "    <tr>\n",
              "      <th>18</th>\n",
              "      <td>Cheese</td>\n",
              "      <td>2/1/21</td>\n",
              "      <td>3/1/21</td>\n",
              "    </tr>\n",
              "    <tr>\n",
              "      <th>19</th>\n",
              "      <td>Bread</td>\n",
              "      <td>1/21/21</td>\n",
              "      <td>2/9/21</td>\n",
              "    </tr>\n",
              "    <tr>\n",
              "      <th>20</th>\n",
              "      <td>Broccoli</td>\n",
              "      <td>2/5/21</td>\n",
              "      <td>2/9/21</td>\n",
              "    </tr>\n",
              "    <tr>\n",
              "      <th>21</th>\n",
              "      <td>Tomato</td>\n",
              "      <td>2/4/21</td>\n",
              "      <td>2/14/21</td>\n",
              "    </tr>\n",
              "    <tr>\n",
              "      <th>22</th>\n",
              "      <td>Potato</td>\n",
              "      <td>2/3/21</td>\n",
              "      <td>2/23/21</td>\n",
              "    </tr>\n",
              "    <tr>\n",
              "      <th>23</th>\n",
              "      <td>Kiwi</td>\n",
              "      <td>2/3/21</td>\n",
              "      <td>2/10/21</td>\n",
              "    </tr>\n",
              "    <tr>\n",
              "      <th>24</th>\n",
              "      <td>Bagel</td>\n",
              "      <td>2/4/21</td>\n",
              "      <td>2/10/21</td>\n",
              "    </tr>\n",
              "    <tr>\n",
              "      <th>25</th>\n",
              "      <td>Salsa</td>\n",
              "      <td>2/5/21</td>\n",
              "      <td>3/5/21</td>\n",
              "    </tr>\n",
              "    <tr>\n",
              "      <th>26</th>\n",
              "      <td>Hummus</td>\n",
              "      <td>2/5/21</td>\n",
              "      <td>2/25/21</td>\n",
              "    </tr>\n",
              "    <tr>\n",
              "      <th>27</th>\n",
              "      <td>Donuts</td>\n",
              "      <td>2/2/21</td>\n",
              "      <td>2/12/21</td>\n",
              "    </tr>\n",
              "    <tr>\n",
              "      <th>28</th>\n",
              "      <td>Turkey</td>\n",
              "      <td>2/1/21</td>\n",
              "      <td>2/11/21</td>\n",
              "    </tr>\n",
              "    <tr>\n",
              "      <th>29</th>\n",
              "      <td>Beans</td>\n",
              "      <td>1/27/21</td>\n",
              "      <td>1/27/22</td>\n",
              "    </tr>\n",
              "    <tr>\n",
              "      <th>30</th>\n",
              "      <td>Noodles</td>\n",
              "      <td>1/20/21</td>\n",
              "      <td>1/20/22</td>\n",
              "    </tr>\n",
              "    <tr>\n",
              "      <th>31</th>\n",
              "      <td>Nachos</td>\n",
              "      <td>1/22/21</td>\n",
              "      <td>7/22/21</td>\n",
              "    </tr>\n",
              "    <tr>\n",
              "      <th>32</th>\n",
              "      <td>Beans</td>\n",
              "      <td>1/24/21</td>\n",
              "      <td>1/24/22</td>\n",
              "    </tr>\n",
              "    <tr>\n",
              "      <th>33</th>\n",
              "      <td>Chickpeas</td>\n",
              "      <td>1/18/21</td>\n",
              "      <td>1/18/22</td>\n",
              "    </tr>\n",
              "    <tr>\n",
              "      <th>34</th>\n",
              "      <td>Ketchup</td>\n",
              "      <td>12/10/20</td>\n",
              "      <td>12/10/22</td>\n",
              "    </tr>\n",
              "    <tr>\n",
              "      <th>35</th>\n",
              "      <td>Mango</td>\n",
              "      <td>2/1/21</td>\n",
              "      <td>2/22/21</td>\n",
              "    </tr>\n",
              "    <tr>\n",
              "      <th>36</th>\n",
              "      <td>Corn</td>\n",
              "      <td>2/1/21</td>\n",
              "      <td>2/25/21</td>\n",
              "    </tr>\n",
              "    <tr>\n",
              "      <th>37</th>\n",
              "      <td>Coconut</td>\n",
              "      <td>1/31/21</td>\n",
              "      <td>2/27/21</td>\n",
              "    </tr>\n",
              "    <tr>\n",
              "      <th>38</th>\n",
              "      <td>Watermelon</td>\n",
              "      <td>1/30/21</td>\n",
              "      <td>2/28/21</td>\n",
              "    </tr>\n",
              "    <tr>\n",
              "      <th>39</th>\n",
              "      <td>Peanuts</td>\n",
              "      <td>1/1/21</td>\n",
              "      <td>6/1/21</td>\n",
              "    </tr>\n",
              "    <tr>\n",
              "      <th>40</th>\n",
              "      <td>Popcorn</td>\n",
              "      <td>1/7/21</td>\n",
              "      <td>2/7/21</td>\n",
              "    </tr>\n",
              "    <tr>\n",
              "      <th>41</th>\n",
              "      <td>Tortilla</td>\n",
              "      <td>1/5/21</td>\n",
              "      <td>3/5/21</td>\n",
              "    </tr>\n",
              "    <tr>\n",
              "      <th>42</th>\n",
              "      <td>Pasta</td>\n",
              "      <td>1/10/21</td>\n",
              "      <td>3/10/21</td>\n",
              "    </tr>\n",
              "    <tr>\n",
              "      <th>43</th>\n",
              "      <td>Cookies</td>\n",
              "      <td>1/11/21</td>\n",
              "      <td>3/11/21</td>\n",
              "    </tr>\n",
              "    <tr>\n",
              "      <th>44</th>\n",
              "      <td>Tacos</td>\n",
              "      <td>2/1/21</td>\n",
              "      <td>4/1/21</td>\n",
              "    </tr>\n",
              "    <tr>\n",
              "      <th>45</th>\n",
              "      <td>Redbull</td>\n",
              "      <td>2/1/21</td>\n",
              "      <td>2/1/22</td>\n",
              "    </tr>\n",
              "    <tr>\n",
              "      <th>46</th>\n",
              "      <td>Guacamole</td>\n",
              "      <td>2/1/21</td>\n",
              "      <td>2/10/21</td>\n",
              "    </tr>\n",
              "    <tr>\n",
              "      <th>47</th>\n",
              "      <td>Avocado</td>\n",
              "      <td>2/2/21</td>\n",
              "      <td>2/12/21</td>\n",
              "    </tr>\n",
              "    <tr>\n",
              "      <th>48</th>\n",
              "      <td>Pork</td>\n",
              "      <td>2/2/21</td>\n",
              "      <td>2/12/21</td>\n",
              "    </tr>\n",
              "    <tr>\n",
              "      <th>49</th>\n",
              "      <td>Nutella</td>\n",
              "      <td>1/2/21</td>\n",
              "      <td>1/2/22</td>\n",
              "    </tr>\n",
              "  </tbody>\n",
              "</table>\n",
              "</div>"
            ],
            "text/plain": [
              "          Name Manufacturing Date Expiry Date\n",
              "0        Apple             2/5/21     2/15/21\n",
              "1       Banana             2/5/21     2/10/21\n",
              "2       Orange             2/5/21     2/10/21\n",
              "3      Berries             2/5/21     2/10/21\n",
              "4         Lays             2/5/21     11/2/21\n",
              "5    Chocolate             2/2/21      2/2/22\n",
              "6       Butter             7/2/20      6/2/21\n",
              "7         Milk             2/5/21     2/12/21\n",
              "8   Cornflakes            1/30/21     1/30/22\n",
              "9      Granola             1/1/21      1/2/22\n",
              "10     Pancake            1/12/21     2/22/21\n",
              "11        Rice           11/10/20    11/11/21\n",
              "12       Flour           12/12/20    12/12/22\n",
              "13        Oats           25/12/20     19/9/21\n",
              "14       Cream             2/5/21     2/25/21\n",
              "15        Eggs            1/31/21     2/15/21\n",
              "16     Chicken             2/1/21     2/12/21\n",
              "17     Waffles             2/2/21      3/2/21\n",
              "18      Cheese             2/1/21      3/1/21\n",
              "19       Bread            1/21/21      2/9/21\n",
              "20    Broccoli             2/5/21      2/9/21\n",
              "21      Tomato             2/4/21     2/14/21\n",
              "22      Potato             2/3/21     2/23/21\n",
              "23        Kiwi             2/3/21     2/10/21\n",
              "24       Bagel             2/4/21     2/10/21\n",
              "25       Salsa             2/5/21      3/5/21\n",
              "26      Hummus             2/5/21     2/25/21\n",
              "27      Donuts             2/2/21     2/12/21\n",
              "28      Turkey             2/1/21     2/11/21\n",
              "29       Beans            1/27/21     1/27/22\n",
              "30     Noodles            1/20/21     1/20/22\n",
              "31      Nachos            1/22/21     7/22/21\n",
              "32       Beans            1/24/21     1/24/22\n",
              "33   Chickpeas            1/18/21     1/18/22\n",
              "34     Ketchup           12/10/20    12/10/22\n",
              "35       Mango             2/1/21     2/22/21\n",
              "36        Corn             2/1/21     2/25/21\n",
              "37     Coconut            1/31/21     2/27/21\n",
              "38  Watermelon            1/30/21     2/28/21\n",
              "39     Peanuts             1/1/21      6/1/21\n",
              "40     Popcorn             1/7/21      2/7/21\n",
              "41    Tortilla             1/5/21      3/5/21\n",
              "42       Pasta            1/10/21     3/10/21\n",
              "43     Cookies            1/11/21     3/11/21\n",
              "44       Tacos             2/1/21      4/1/21\n",
              "45     Redbull             2/1/21      2/1/22\n",
              "46   Guacamole             2/1/21     2/10/21\n",
              "47     Avocado             2/2/21     2/12/21\n",
              "48        Pork             2/2/21     2/12/21\n",
              "49     Nutella             1/2/21      1/2/22"
            ]
          },
          "metadata": {
            "tags": []
          },
          "execution_count": 51
        }
      ]
    },
    {
      "cell_type": "code",
      "metadata": {
        "id": "5MsDgdbPtSym"
      },
      "source": [
        "f=open(file)\n",
        "lines=f.read()"
      ],
      "execution_count": 53,
      "outputs": []
    },
    {
      "cell_type": "code",
      "metadata": {
        "id": "3rPkwCiNtclA"
      },
      "source": [
        "qr=pyqrcode.create(lines)"
      ],
      "execution_count": 56,
      "outputs": []
    },
    {
      "cell_type": "code",
      "metadata": {
        "id": "nmPz8dBRHG0R"
      },
      "source": [
        "# qr=pyqrcode.create(\" a b c d\\nt h y 3 4\\n6 r t y\\n4 5 6 7\\n\")"
      ],
      "execution_count": 29,
      "outputs": []
    },
    {
      "cell_type": "code",
      "metadata": {
        "id": "m5yDqI4yHxKU"
      },
      "source": [
        "qr.png('abc.png',scale=2)"
      ],
      "execution_count": 63,
      "outputs": []
    },
    {
      "cell_type": "code",
      "metadata": {
        "colab": {
          "base_uri": "https://localhost:8080/",
          "height": 379
        },
        "id": "RMZ9NcLiI31k",
        "outputId": "a51467d1-ba62-4365-9b37-3ad0ae139520"
      },
      "source": [
        "Image('abc.png')"
      ],
      "execution_count": 64,
      "outputs": [
        {
          "output_type": "execute_result",
          "data": {
            "image/png": "[encoded data removed]",
            "text/plain": [
              "<IPython.core.display.Image object>"
            ]
          },
          "metadata": {
            "tags": []
          },
          "execution_count": 64
        }
      ]
    },
    {
      "cell_type": "code",
      "metadata": {
        "colab": {
          "base_uri": "https://localhost:8080/"
        },
        "id": "3NaLnwRmI7LI",
        "outputId": "d611bd0c-9311-4a0a-c91d-d60d36775e77"
      },
      "source": [
        "# pip install pyzbar"
      ],
      "execution_count": 32,
      "outputs": [
        {
          "output_type": "stream",
          "text": [
            "Requirement already satisfied: pyzbar in /usr/local/lib/python3.6/dist-packages (0.1.8)\n"
          ],
          "name": "stdout"
        }
      ]
    },
    {
      "cell_type": "code",
      "metadata": {
        "colab": {
          "base_uri": "https://localhost:8080/"
        },
        "id": "ISa9gg3GK0cw",
        "outputId": "fa6b1924-19ac-4b80-e1a0-e1519cf6195b"
      },
      "source": [
        "# pip install pypng"
      ],
      "execution_count": 33,
      "outputs": [
        {
          "output_type": "stream",
          "text": [
            "Requirement already satisfied: pypng in /usr/local/lib/python3.6/dist-packages (0.0.20)\n"
          ],
          "name": "stdout"
        }
      ]
    },
    {
      "cell_type": "code",
      "metadata": {
        "colab": {
          "base_uri": "https://localhost:8080/",
          "height": 443
        },
        "id": "zxAowBM9NXiW",
        "outputId": "514aae91-025d-4108-f565-4e63faf1dda6"
      },
      "source": [
        "# from pyzbar.pyzbar import decode"
      ],
      "execution_count": 34,
      "outputs": [
        {
          "output_type": "error",
          "ename": "ImportError",
          "evalue": "ignored",
          "traceback": [
            "\u001b[0;31m---------------------------------------------------------------------------\u001b[0m",
            "\u001b[0;31mImportError\u001b[0m                               Traceback (most recent call last)",
            "\u001b[0;32m<ipython-input-34-95ae0761f4b5>\u001b[0m in \u001b[0;36m<module>\u001b[0;34m()\u001b[0m\n\u001b[0;32m----> 1\u001b[0;31m \u001b[0;32mfrom\u001b[0m \u001b[0mpyzbar\u001b[0m\u001b[0;34m.\u001b[0m\u001b[0mpyzbar\u001b[0m \u001b[0;32mimport\u001b[0m \u001b[0mdecode\u001b[0m\u001b[0;34m\u001b[0m\u001b[0;34m\u001b[0m\u001b[0m\n\u001b[0m",
            "\u001b[0;32m/usr/local/lib/python3.6/dist-packages/pyzbar/pyzbar.py\u001b[0m in \u001b[0;36m<module>\u001b[0;34m()\u001b[0m\n\u001b[1;32m      5\u001b[0m \u001b[0;32mfrom\u001b[0m \u001b[0;34m.\u001b[0m\u001b[0mlocations\u001b[0m \u001b[0;32mimport\u001b[0m \u001b[0mbounding_box\u001b[0m\u001b[0;34m,\u001b[0m \u001b[0mconvex_hull\u001b[0m\u001b[0;34m,\u001b[0m \u001b[0mPoint\u001b[0m\u001b[0;34m,\u001b[0m \u001b[0mRect\u001b[0m\u001b[0;34m\u001b[0m\u001b[0;34m\u001b[0m\u001b[0m\n\u001b[1;32m      6\u001b[0m \u001b[0;32mfrom\u001b[0m \u001b[0;34m.\u001b[0m\u001b[0mpyzbar_error\u001b[0m \u001b[0;32mimport\u001b[0m \u001b[0mPyZbarError\u001b[0m\u001b[0;34m\u001b[0m\u001b[0;34m\u001b[0m\u001b[0m\n\u001b[0;32m----> 7\u001b[0;31m from .wrapper import (\n\u001b[0m\u001b[1;32m      8\u001b[0m     \u001b[0mzbar_image_scanner_set_config\u001b[0m\u001b[0;34m,\u001b[0m\u001b[0;34m\u001b[0m\u001b[0;34m\u001b[0m\u001b[0m\n\u001b[1;32m      9\u001b[0m     \u001b[0mzbar_image_scanner_create\u001b[0m\u001b[0;34m,\u001b[0m \u001b[0mzbar_image_scanner_destroy\u001b[0m\u001b[0;34m,\u001b[0m\u001b[0;34m\u001b[0m\u001b[0;34m\u001b[0m\u001b[0m\n",
            "\u001b[0;32m/usr/local/lib/python3.6/dist-packages/pyzbar/wrapper.py\u001b[0m in \u001b[0;36m<module>\u001b[0;34m()\u001b[0m\n\u001b[1;32m    141\u001b[0m     \u001b[0mc_int\u001b[0m\u001b[0;34m,\u001b[0m\u001b[0;34m\u001b[0m\u001b[0;34m\u001b[0m\u001b[0m\n\u001b[1;32m    142\u001b[0m     \u001b[0mc_uint_p\u001b[0m\u001b[0;34m,\u001b[0m    \u001b[0;31m# major,\u001b[0m\u001b[0;34m\u001b[0m\u001b[0;34m\u001b[0m\u001b[0m\n\u001b[0;32m--> 143\u001b[0;31m     \u001b[0mc_uint_p\u001b[0m\u001b[0;34m,\u001b[0m    \u001b[0;31m# minor\u001b[0m\u001b[0;34m\u001b[0m\u001b[0;34m\u001b[0m\u001b[0m\n\u001b[0m\u001b[1;32m    144\u001b[0m )\n\u001b[1;32m    145\u001b[0m \u001b[0;34m\u001b[0m\u001b[0m\n",
            "\u001b[0;32m/usr/local/lib/python3.6/dist-packages/pyzbar/wrapper.py\u001b[0m in \u001b[0;36mzbar_function\u001b[0;34m(fname, restype, *args)\u001b[0m\n\u001b[1;32m    134\u001b[0m     \"\"\"\n\u001b[1;32m    135\u001b[0m     \u001b[0mprototype\u001b[0m \u001b[0;34m=\u001b[0m \u001b[0mCFUNCTYPE\u001b[0m\u001b[0;34m(\u001b[0m\u001b[0mrestype\u001b[0m\u001b[0;34m,\u001b[0m \u001b[0;34m*\u001b[0m\u001b[0margs\u001b[0m\u001b[0;34m)\u001b[0m\u001b[0;34m\u001b[0m\u001b[0;34m\u001b[0m\u001b[0m\n\u001b[0;32m--> 136\u001b[0;31m     \u001b[0;32mreturn\u001b[0m \u001b[0mprototype\u001b[0m\u001b[0;34m(\u001b[0m\u001b[0;34m(\u001b[0m\u001b[0mfname\u001b[0m\u001b[0;34m,\u001b[0m \u001b[0mload_libzbar\u001b[0m\u001b[0;34m(\u001b[0m\u001b[0;34m)\u001b[0m\u001b[0;34m)\u001b[0m\u001b[0;34m)\u001b[0m\u001b[0;34m\u001b[0m\u001b[0;34m\u001b[0m\u001b[0m\n\u001b[0m\u001b[1;32m    137\u001b[0m \u001b[0;34m\u001b[0m\u001b[0m\n\u001b[1;32m    138\u001b[0m \u001b[0;34m\u001b[0m\u001b[0m\n",
            "\u001b[0;32m/usr/local/lib/python3.6/dist-packages/pyzbar/wrapper.py\u001b[0m in \u001b[0;36mload_libzbar\u001b[0;34m()\u001b[0m\n\u001b[1;32m    113\u001b[0m     \u001b[0;32mglobal\u001b[0m \u001b[0mEXTERNAL_DEPENDENCIES\u001b[0m\u001b[0;34m\u001b[0m\u001b[0;34m\u001b[0m\u001b[0m\n\u001b[1;32m    114\u001b[0m     \u001b[0;32mif\u001b[0m \u001b[0;32mnot\u001b[0m \u001b[0mLIBZBAR\u001b[0m\u001b[0;34m:\u001b[0m\u001b[0;34m\u001b[0m\u001b[0;34m\u001b[0m\u001b[0m\n\u001b[0;32m--> 115\u001b[0;31m         \u001b[0mlibzbar\u001b[0m\u001b[0;34m,\u001b[0m \u001b[0mdependencies\u001b[0m \u001b[0;34m=\u001b[0m \u001b[0mzbar_library\u001b[0m\u001b[0;34m.\u001b[0m\u001b[0mload\u001b[0m\u001b[0;34m(\u001b[0m\u001b[0;34m)\u001b[0m\u001b[0;34m\u001b[0m\u001b[0;34m\u001b[0m\u001b[0m\n\u001b[0m\u001b[1;32m    116\u001b[0m         \u001b[0mLIBZBAR\u001b[0m \u001b[0;34m=\u001b[0m \u001b[0mlibzbar\u001b[0m\u001b[0;34m\u001b[0m\u001b[0;34m\u001b[0m\u001b[0m\n\u001b[1;32m    117\u001b[0m         \u001b[0mEXTERNAL_DEPENDENCIES\u001b[0m \u001b[0;34m=\u001b[0m \u001b[0;34m[\u001b[0m\u001b[0mLIBZBAR\u001b[0m\u001b[0;34m]\u001b[0m \u001b[0;34m+\u001b[0m \u001b[0mdependencies\u001b[0m\u001b[0;34m\u001b[0m\u001b[0;34m\u001b[0m\u001b[0m\n",
            "\u001b[0;32m/usr/local/lib/python3.6/dist-packages/pyzbar/zbar_library.py\u001b[0m in \u001b[0;36mload\u001b[0;34m()\u001b[0m\n\u001b[1;32m     63\u001b[0m         \u001b[0mpath\u001b[0m \u001b[0;34m=\u001b[0m \u001b[0mfind_library\u001b[0m\u001b[0;34m(\u001b[0m\u001b[0;34m'zbar'\u001b[0m\u001b[0;34m)\u001b[0m\u001b[0;34m\u001b[0m\u001b[0;34m\u001b[0m\u001b[0m\n\u001b[1;32m     64\u001b[0m         \u001b[0;32mif\u001b[0m \u001b[0;32mnot\u001b[0m \u001b[0mpath\u001b[0m\u001b[0;34m:\u001b[0m\u001b[0;34m\u001b[0m\u001b[0;34m\u001b[0m\u001b[0m\n\u001b[0;32m---> 65\u001b[0;31m             \u001b[0;32mraise\u001b[0m \u001b[0mImportError\u001b[0m\u001b[0;34m(\u001b[0m\u001b[0;34m'Unable to find zbar shared library'\u001b[0m\u001b[0;34m)\u001b[0m\u001b[0;34m\u001b[0m\u001b[0;34m\u001b[0m\u001b[0m\n\u001b[0m\u001b[1;32m     66\u001b[0m         \u001b[0mlibzbar\u001b[0m \u001b[0;34m=\u001b[0m \u001b[0mcdll\u001b[0m\u001b[0;34m.\u001b[0m\u001b[0mLoadLibrary\u001b[0m\u001b[0;34m(\u001b[0m\u001b[0mpath\u001b[0m\u001b[0;34m)\u001b[0m\u001b[0;34m\u001b[0m\u001b[0;34m\u001b[0m\u001b[0m\n\u001b[1;32m     67\u001b[0m         \u001b[0mdependencies\u001b[0m \u001b[0;34m=\u001b[0m \u001b[0;34m[\u001b[0m\u001b[0;34m]\u001b[0m\u001b[0;34m\u001b[0m\u001b[0;34m\u001b[0m\u001b[0m\n",
            "\u001b[0;31mImportError\u001b[0m: Unable to find zbar shared library",
            "",
            "\u001b[0;31m---------------------------------------------------------------------------\u001b[0;32m\nNOTE: If your import is failing due to a missing package, you can\nmanually install dependencies using either !pip or !apt.\n\nTo view examples of installing some common dependencies, click the\n\"Open Examples\" button below.\n\u001b[0;31m---------------------------------------------------------------------------\u001b[0m\n"
          ]
        }
      ]
    },
    {
      "cell_type": "code",
      "metadata": {
        "id": "v6X4YiLCbOrs"
      },
      "source": [
        ""
      ],
      "execution_count": null,
      "outputs": []
    }
  ]
}